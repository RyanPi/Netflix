{
 "cells": [
  {
   "cell_type": "markdown",
   "metadata": {},
   "source": [
    "# How long have I been watching Netflix?\n",
    "The purpose of this exercise is to understand how much time we have spent watching the office on Netflix."
   ]
  },
  {
   "cell_type": "code",
   "execution_count": 10,
   "metadata": {},
   "outputs": [
    {
     "data": {
      "text/html": [
       "<div>\n",
       "<style scoped>\n",
       "    .dataframe tbody tr th:only-of-type {\n",
       "        vertical-align: middle;\n",
       "    }\n",
       "\n",
       "    .dataframe tbody tr th {\n",
       "        vertical-align: top;\n",
       "    }\n",
       "\n",
       "    .dataframe thead th {\n",
       "        text-align: right;\n",
       "    }\n",
       "</style>\n",
       "<table border=\"1\" class=\"dataframe\">\n",
       "  <thead>\n",
       "    <tr style=\"text-align: right;\">\n",
       "      <th></th>\n",
       "      <th>Profile Name</th>\n",
       "      <th>Start Time</th>\n",
       "      <th>Duration</th>\n",
       "      <th>Attributes</th>\n",
       "      <th>Title</th>\n",
       "      <th>Supplemental Video Type</th>\n",
       "      <th>Device Type</th>\n",
       "      <th>Bookmark</th>\n",
       "      <th>Latest Bookmark</th>\n",
       "      <th>Country</th>\n",
       "    </tr>\n",
       "  </thead>\n",
       "  <tbody>\n",
       "    <tr>\n",
       "      <th>0</th>\n",
       "      <td>Kids</td>\n",
       "      <td>2020-11-15 00:32:55</td>\n",
       "      <td>00:05:17</td>\n",
       "      <td>NaN</td>\n",
       "      <td>The Spy Next Door</td>\n",
       "      <td>NaN</td>\n",
       "      <td>Roku Amarillo4K Set Top Box</td>\n",
       "      <td>00:12:42</td>\n",
       "      <td>00:12:42</td>\n",
       "      <td>US (United States)</td>\n",
       "    </tr>\n",
       "    <tr>\n",
       "      <th>1</th>\n",
       "      <td>Kids</td>\n",
       "      <td>2020-11-15 00:32:11</td>\n",
       "      <td>00:00:27</td>\n",
       "      <td>Autoplayed: user action: None;</td>\n",
       "      <td>The Spy Next Door_hook_primary_16x9</td>\n",
       "      <td>HOOK</td>\n",
       "      <td>Roku Amarillo4K Set Top Box</td>\n",
       "      <td>00:00:27</td>\n",
       "      <td>00:00:27</td>\n",
       "      <td>US (United States)</td>\n",
       "    </tr>\n",
       "    <tr>\n",
       "      <th>2</th>\n",
       "      <td>Kids</td>\n",
       "      <td>2020-11-15 00:30:48</td>\n",
       "      <td>00:01:16</td>\n",
       "      <td>Autoplayed: user action: None;</td>\n",
       "      <td>The A List (Trailer)</td>\n",
       "      <td>TRAILER</td>\n",
       "      <td>Roku Amarillo4K Set Top Box</td>\n",
       "      <td>00:01:16</td>\n",
       "      <td>00:01:16</td>\n",
       "      <td>US (United States)</td>\n",
       "    </tr>\n",
       "    <tr>\n",
       "      <th>3</th>\n",
       "      <td>Kids</td>\n",
       "      <td>2020-11-15 00:30:18</td>\n",
       "      <td>00:00:25</td>\n",
       "      <td>Autoplayed: user action: None;</td>\n",
       "      <td>Season 1 Trailer 3: Raising Dion</td>\n",
       "      <td>TRAILER</td>\n",
       "      <td>Roku Amarillo4K Set Top Box</td>\n",
       "      <td>00:00:25</td>\n",
       "      <td>00:00:25</td>\n",
       "      <td>US (United States)</td>\n",
       "    </tr>\n",
       "    <tr>\n",
       "      <th>4</th>\n",
       "      <td>Kids</td>\n",
       "      <td>2020-11-15 00:28:11</td>\n",
       "      <td>00:01:57</td>\n",
       "      <td>NaN</td>\n",
       "      <td>The Indian in the Cupboard</td>\n",
       "      <td>NaN</td>\n",
       "      <td>Roku Amarillo4K Set Top Box</td>\n",
       "      <td>00:01:57</td>\n",
       "      <td>00:01:57</td>\n",
       "      <td>US (United States)</td>\n",
       "    </tr>\n",
       "  </tbody>\n",
       "</table>\n",
       "</div>"
      ],
      "text/plain": [
       "  Profile Name           Start Time  Duration  \\\n",
       "0         Kids  2020-11-15 00:32:55  00:05:17   \n",
       "1         Kids  2020-11-15 00:32:11  00:00:27   \n",
       "2         Kids  2020-11-15 00:30:48  00:01:16   \n",
       "3         Kids  2020-11-15 00:30:18  00:00:25   \n",
       "4         Kids  2020-11-15 00:28:11  00:01:57   \n",
       "\n",
       "                        Attributes                                Title  \\\n",
       "0                              NaN                    The Spy Next Door   \n",
       "1  Autoplayed: user action: None;   The Spy Next Door_hook_primary_16x9   \n",
       "2  Autoplayed: user action: None;                  The A List (Trailer)   \n",
       "3  Autoplayed: user action: None;      Season 1 Trailer 3: Raising Dion   \n",
       "4                              NaN           The Indian in the Cupboard   \n",
       "\n",
       "  Supplemental Video Type                  Device Type  Bookmark  \\\n",
       "0                     NaN  Roku Amarillo4K Set Top Box  00:12:42   \n",
       "1                    HOOK  Roku Amarillo4K Set Top Box  00:00:27   \n",
       "2                 TRAILER  Roku Amarillo4K Set Top Box  00:01:16   \n",
       "3                 TRAILER  Roku Amarillo4K Set Top Box  00:00:25   \n",
       "4                     NaN  Roku Amarillo4K Set Top Box  00:01:57   \n",
       "\n",
       "  Latest Bookmark             Country  \n",
       "0        00:12:42  US (United States)  \n",
       "1        00:00:27  US (United States)  \n",
       "2        00:01:16  US (United States)  \n",
       "3        00:00:25  US (United States)  \n",
       "4        00:01:57  US (United States)  "
      ]
     },
     "execution_count": 10,
     "metadata": {},
     "output_type": "execute_result"
    }
   ],
   "source": [
    "import pandas as pd\n",
    "\n",
    "view_act_df = pd.read_csv('../netflix-report/Content_Interaction/ViewingActivity.csv', encoding=\"utf-8\")\n",
    "view_act_df.head()"
   ]
  },
  {
   "cell_type": "code",
   "execution_count": 11,
   "metadata": {},
   "outputs": [
    {
     "name": "stdout",
     "output_type": "stream",
     "text": [
      "<class 'pandas.core.frame.DataFrame'>\n",
      "RangeIndex: 24804 entries, 0 to 24803\n",
      "Data columns (total 10 columns):\n",
      " #   Column                   Non-Null Count  Dtype \n",
      "---  ------                   --------------  ----- \n",
      " 0   Profile Name             24804 non-null  object\n",
      " 1   Start Time               24804 non-null  object\n",
      " 2   Duration                 24804 non-null  object\n",
      " 3   Attributes               9528 non-null   object\n",
      " 4   Title                    24804 non-null  object\n",
      " 5   Supplemental Video Type  3650 non-null   object\n",
      " 6   Device Type              24559 non-null  object\n",
      " 7   Bookmark                 24804 non-null  object\n",
      " 8   Latest Bookmark          24804 non-null  object\n",
      " 9   Country                  24804 non-null  object\n",
      "dtypes: object(10)\n",
      "memory usage: 1.9+ MB\n"
     ]
    }
   ],
   "source": [
    "view_act_df.info()"
   ]
  },
  {
   "cell_type": "markdown",
   "metadata": {},
   "source": [
    "As we can see the above Duration column is in a string object. In order to get a total time spent viewing each show we need to convert the duration to a time object."
   ]
  },
  {
   "cell_type": "markdown",
   "metadata": {},
   "source": [
    "There's also a lof to columns we don't need. We are only interested in the Shows and the Time columns. Let's drop the unnecessary columns."
   ]
  },
  {
   "cell_type": "code",
   "execution_count": 12,
   "metadata": {},
   "outputs": [
    {
     "data": {
      "text/html": [
       "<div>\n",
       "<style scoped>\n",
       "    .dataframe tbody tr th:only-of-type {\n",
       "        vertical-align: middle;\n",
       "    }\n",
       "\n",
       "    .dataframe tbody tr th {\n",
       "        vertical-align: top;\n",
       "    }\n",
       "\n",
       "    .dataframe thead th {\n",
       "        text-align: right;\n",
       "    }\n",
       "</style>\n",
       "<table border=\"1\" class=\"dataframe\">\n",
       "  <thead>\n",
       "    <tr style=\"text-align: right;\">\n",
       "      <th></th>\n",
       "      <th>Start Time</th>\n",
       "      <th>Duration</th>\n",
       "      <th>Title</th>\n",
       "    </tr>\n",
       "  </thead>\n",
       "  <tbody>\n",
       "    <tr>\n",
       "      <th>0</th>\n",
       "      <td>2020-11-15 00:32:55</td>\n",
       "      <td>00:05:17</td>\n",
       "      <td>The Spy Next Door</td>\n",
       "    </tr>\n",
       "    <tr>\n",
       "      <th>1</th>\n",
       "      <td>2020-11-15 00:32:11</td>\n",
       "      <td>00:00:27</td>\n",
       "      <td>The Spy Next Door_hook_primary_16x9</td>\n",
       "    </tr>\n",
       "    <tr>\n",
       "      <th>2</th>\n",
       "      <td>2020-11-15 00:30:48</td>\n",
       "      <td>00:01:16</td>\n",
       "      <td>The A List (Trailer)</td>\n",
       "    </tr>\n",
       "    <tr>\n",
       "      <th>3</th>\n",
       "      <td>2020-11-15 00:30:18</td>\n",
       "      <td>00:00:25</td>\n",
       "      <td>Season 1 Trailer 3: Raising Dion</td>\n",
       "    </tr>\n",
       "    <tr>\n",
       "      <th>4</th>\n",
       "      <td>2020-11-15 00:28:11</td>\n",
       "      <td>00:01:57</td>\n",
       "      <td>The Indian in the Cupboard</td>\n",
       "    </tr>\n",
       "  </tbody>\n",
       "</table>\n",
       "</div>"
      ],
      "text/plain": [
       "            Start Time  Duration                                Title\n",
       "0  2020-11-15 00:32:55  00:05:17                    The Spy Next Door\n",
       "1  2020-11-15 00:32:11  00:00:27  The Spy Next Door_hook_primary_16x9\n",
       "2  2020-11-15 00:30:48  00:01:16                 The A List (Trailer)\n",
       "3  2020-11-15 00:30:18  00:00:25     Season 1 Trailer 3: Raising Dion\n",
       "4  2020-11-15 00:28:11  00:01:57           The Indian in the Cupboard"
      ]
     },
     "execution_count": 12,
     "metadata": {},
     "output_type": "execute_result"
    }
   ],
   "source": [
    "drop_cols = [\"Profile Name\", \"Attributes\", \"Supplemental Video Type\", \"Device Type\", \"Bookmark\", \"Latest Bookmark\", \"Country\"]\n",
    "df = view_act_df.drop(drop_cols, axis=1)\n",
    "df.head()"
   ]
  },
  {
   "cell_type": "markdown",
   "metadata": {},
   "source": [
    "Let's convert out `Start Time` column to a datetime object"
   ]
  },
  {
   "cell_type": "code",
   "execution_count": 13,
   "metadata": {},
   "outputs": [
    {
     "data": {
      "text/plain": [
       "0       2020-11-15 00:32:55+00:00\n",
       "1       2020-11-15 00:32:11+00:00\n",
       "2       2020-11-15 00:30:48+00:00\n",
       "3       2020-11-15 00:30:18+00:00\n",
       "4       2020-11-15 00:28:11+00:00\n",
       "                   ...           \n",
       "24799   2009-05-16 08:18:12+00:00\n",
       "24800   2009-05-09 07:12:09+00:00\n",
       "24801   2009-05-05 04:55:06+00:00\n",
       "24802   2009-05-04 06:14:48+00:00\n",
       "24803   2009-05-03 02:44:05+00:00\n",
       "Name: Start Time, Length: 24804, dtype: datetime64[ns, UTC]"
      ]
     },
     "execution_count": 13,
     "metadata": {},
     "output_type": "execute_result"
    }
   ],
   "source": [
    "df['Start Time'] = pd.to_datetime(df['Start Time'], utc=True)\n",
    "df['Start Time']"
   ]
  },
  {
   "cell_type": "markdown",
   "metadata": {},
   "source": [
    "Now we need to convert the datetime object to our current Time Zone. We're going to use US/Easter time. In order to do this we're going to use the `DateTime.tz_convert()` function. In order to use this function, `Start Time` must be set as the index of the DF. We'll use `Dataframe.set_index()` to achieve this."
   ]
  },
  {
   "cell_type": "code",
   "execution_count": 14,
   "metadata": {},
   "outputs": [],
   "source": [
    "df = df.set_index('Start Time')"
   ]
  },
  {
   "cell_type": "code",
   "execution_count": 15,
   "metadata": {},
   "outputs": [],
   "source": [
    "df.index = df.index.tz_convert('US/Eastern')"
   ]
  },
  {
   "cell_type": "code",
   "execution_count": 16,
   "metadata": {},
   "outputs": [],
   "source": [
    "df = df.reset_index()"
   ]
  },
  {
   "cell_type": "code",
   "execution_count": 17,
   "metadata": {},
   "outputs": [
    {
     "data": {
      "text/html": [
       "<div>\n",
       "<style scoped>\n",
       "    .dataframe tbody tr th:only-of-type {\n",
       "        vertical-align: middle;\n",
       "    }\n",
       "\n",
       "    .dataframe tbody tr th {\n",
       "        vertical-align: top;\n",
       "    }\n",
       "\n",
       "    .dataframe thead th {\n",
       "        text-align: right;\n",
       "    }\n",
       "</style>\n",
       "<table border=\"1\" class=\"dataframe\">\n",
       "  <thead>\n",
       "    <tr style=\"text-align: right;\">\n",
       "      <th></th>\n",
       "      <th>Start Time</th>\n",
       "      <th>Duration</th>\n",
       "      <th>Title</th>\n",
       "    </tr>\n",
       "  </thead>\n",
       "  <tbody>\n",
       "    <tr>\n",
       "      <th>0</th>\n",
       "      <td>2020-11-14 19:32:55-05:00</td>\n",
       "      <td>00:05:17</td>\n",
       "      <td>The Spy Next Door</td>\n",
       "    </tr>\n",
       "    <tr>\n",
       "      <th>1</th>\n",
       "      <td>2020-11-14 19:32:11-05:00</td>\n",
       "      <td>00:00:27</td>\n",
       "      <td>The Spy Next Door_hook_primary_16x9</td>\n",
       "    </tr>\n",
       "    <tr>\n",
       "      <th>2</th>\n",
       "      <td>2020-11-14 19:30:48-05:00</td>\n",
       "      <td>00:01:16</td>\n",
       "      <td>The A List (Trailer)</td>\n",
       "    </tr>\n",
       "    <tr>\n",
       "      <th>3</th>\n",
       "      <td>2020-11-14 19:30:18-05:00</td>\n",
       "      <td>00:00:25</td>\n",
       "      <td>Season 1 Trailer 3: Raising Dion</td>\n",
       "    </tr>\n",
       "    <tr>\n",
       "      <th>4</th>\n",
       "      <td>2020-11-14 19:28:11-05:00</td>\n",
       "      <td>00:01:57</td>\n",
       "      <td>The Indian in the Cupboard</td>\n",
       "    </tr>\n",
       "  </tbody>\n",
       "</table>\n",
       "</div>"
      ],
      "text/plain": [
       "                 Start Time  Duration                                Title\n",
       "0 2020-11-14 19:32:55-05:00  00:05:17                    The Spy Next Door\n",
       "1 2020-11-14 19:32:11-05:00  00:00:27  The Spy Next Door_hook_primary_16x9\n",
       "2 2020-11-14 19:30:48-05:00  00:01:16                 The A List (Trailer)\n",
       "3 2020-11-14 19:30:18-05:00  00:00:25     Season 1 Trailer 3: Raising Dion\n",
       "4 2020-11-14 19:28:11-05:00  00:01:57           The Indian in the Cupboard"
      ]
     },
     "execution_count": 17,
     "metadata": {},
     "output_type": "execute_result"
    }
   ],
   "source": [
    "df.head()"
   ]
  },
  {
   "cell_type": "markdown",
   "metadata": {},
   "source": [
    "Now that we have our `Start Time` converted, we need to do the same to `Duration`. The difference between these columns is `Start Time` represents a particular date-time whereas `Duration` represents a change in two date-times or a TimeDelta object. We'll need to convert `Duration` to a TimeDelta object. This is achieved in a similar fashion using `pd.to_timedelta()`"
   ]
  },
  {
   "cell_type": "code",
   "execution_count": 18,
   "metadata": {},
   "outputs": [],
   "source": [
    "df['Duration'] = pd.to_timedelta(df['Duration'])"
   ]
  },
  {
   "cell_type": "code",
   "execution_count": 19,
   "metadata": {},
   "outputs": [
    {
     "data": {
      "text/html": [
       "<div>\n",
       "<style scoped>\n",
       "    .dataframe tbody tr th:only-of-type {\n",
       "        vertical-align: middle;\n",
       "    }\n",
       "\n",
       "    .dataframe tbody tr th {\n",
       "        vertical-align: top;\n",
       "    }\n",
       "\n",
       "    .dataframe thead th {\n",
       "        text-align: right;\n",
       "    }\n",
       "</style>\n",
       "<table border=\"1\" class=\"dataframe\">\n",
       "  <thead>\n",
       "    <tr style=\"text-align: right;\">\n",
       "      <th></th>\n",
       "      <th>Start Time</th>\n",
       "      <th>Duration</th>\n",
       "      <th>Title</th>\n",
       "    </tr>\n",
       "  </thead>\n",
       "  <tbody>\n",
       "    <tr>\n",
       "      <th>0</th>\n",
       "      <td>2020-11-14 19:32:55-05:00</td>\n",
       "      <td>0 days 00:05:17</td>\n",
       "      <td>The Spy Next Door</td>\n",
       "    </tr>\n",
       "    <tr>\n",
       "      <th>1</th>\n",
       "      <td>2020-11-14 19:32:11-05:00</td>\n",
       "      <td>0 days 00:00:27</td>\n",
       "      <td>The Spy Next Door_hook_primary_16x9</td>\n",
       "    </tr>\n",
       "    <tr>\n",
       "      <th>2</th>\n",
       "      <td>2020-11-14 19:30:48-05:00</td>\n",
       "      <td>0 days 00:01:16</td>\n",
       "      <td>The A List (Trailer)</td>\n",
       "    </tr>\n",
       "    <tr>\n",
       "      <th>3</th>\n",
       "      <td>2020-11-14 19:30:18-05:00</td>\n",
       "      <td>0 days 00:00:25</td>\n",
       "      <td>Season 1 Trailer 3: Raising Dion</td>\n",
       "    </tr>\n",
       "    <tr>\n",
       "      <th>4</th>\n",
       "      <td>2020-11-14 19:28:11-05:00</td>\n",
       "      <td>0 days 00:01:57</td>\n",
       "      <td>The Indian in the Cupboard</td>\n",
       "    </tr>\n",
       "    <tr>\n",
       "      <th>...</th>\n",
       "      <td>...</td>\n",
       "      <td>...</td>\n",
       "      <td>...</td>\n",
       "    </tr>\n",
       "    <tr>\n",
       "      <th>24799</th>\n",
       "      <td>2009-05-16 04:18:12-04:00</td>\n",
       "      <td>0 days 00:57:41</td>\n",
       "      <td>Katt Williams: Live</td>\n",
       "    </tr>\n",
       "    <tr>\n",
       "      <th>24800</th>\n",
       "      <td>2009-05-09 03:12:09-04:00</td>\n",
       "      <td>0 days 01:54:23</td>\n",
       "      <td>Traitor</td>\n",
       "    </tr>\n",
       "    <tr>\n",
       "      <th>24801</th>\n",
       "      <td>2009-05-05 00:55:06-04:00</td>\n",
       "      <td>0 days 01:50:03</td>\n",
       "      <td>The Illusionist</td>\n",
       "    </tr>\n",
       "    <tr>\n",
       "      <th>24802</th>\n",
       "      <td>2009-05-04 02:14:48-04:00</td>\n",
       "      <td>0 days 01:19:31</td>\n",
       "      <td>Katt Williams: American Hustle (The Movie)</td>\n",
       "    </tr>\n",
       "    <tr>\n",
       "      <th>24803</th>\n",
       "      <td>2009-05-02 22:44:05-04:00</td>\n",
       "      <td>0 days 01:37:17</td>\n",
       "      <td>Walk Hard: The Dewey Cox Story</td>\n",
       "    </tr>\n",
       "  </tbody>\n",
       "</table>\n",
       "<p>24804 rows × 3 columns</p>\n",
       "</div>"
      ],
      "text/plain": [
       "                     Start Time        Duration  \\\n",
       "0     2020-11-14 19:32:55-05:00 0 days 00:05:17   \n",
       "1     2020-11-14 19:32:11-05:00 0 days 00:00:27   \n",
       "2     2020-11-14 19:30:48-05:00 0 days 00:01:16   \n",
       "3     2020-11-14 19:30:18-05:00 0 days 00:00:25   \n",
       "4     2020-11-14 19:28:11-05:00 0 days 00:01:57   \n",
       "...                         ...             ...   \n",
       "24799 2009-05-16 04:18:12-04:00 0 days 00:57:41   \n",
       "24800 2009-05-09 03:12:09-04:00 0 days 01:54:23   \n",
       "24801 2009-05-05 00:55:06-04:00 0 days 01:50:03   \n",
       "24802 2009-05-04 02:14:48-04:00 0 days 01:19:31   \n",
       "24803 2009-05-02 22:44:05-04:00 0 days 01:37:17   \n",
       "\n",
       "                                            Title  \n",
       "0                               The Spy Next Door  \n",
       "1             The Spy Next Door_hook_primary_16x9  \n",
       "2                            The A List (Trailer)  \n",
       "3                Season 1 Trailer 3: Raising Dion  \n",
       "4                      The Indian in the Cupboard  \n",
       "...                                           ...  \n",
       "24799                         Katt Williams: Live  \n",
       "24800                                     Traitor  \n",
       "24801                             The Illusionist  \n",
       "24802  Katt Williams: American Hustle (The Movie)  \n",
       "24803              Walk Hard: The Dewey Cox Story  \n",
       "\n",
       "[24804 rows x 3 columns]"
      ]
     },
     "execution_count": 19,
     "metadata": {},
     "output_type": "execute_result"
    }
   ],
   "source": [
    "df"
   ]
  },
  {
   "cell_type": "markdown",
   "metadata": {},
   "source": [
    "Let's do a quick sum of our `Duration` column for total time."
   ]
  },
  {
   "cell_type": "code",
   "execution_count": 20,
   "metadata": {},
   "outputs": [
    {
     "name": "stdout",
     "output_type": "stream",
     "text": [
      "290 days 22:17:29\n"
     ]
    }
   ],
   "source": [
    "total_time = df['Duration'].sum()\n",
    "print(total_time)"
   ]
  },
  {
   "cell_type": "code",
   "execution_count": 21,
   "metadata": {},
   "outputs": [
    {
     "data": {
      "text/html": [
       "<div>\n",
       "<style scoped>\n",
       "    .dataframe tbody tr th:only-of-type {\n",
       "        vertical-align: middle;\n",
       "    }\n",
       "\n",
       "    .dataframe tbody tr th {\n",
       "        vertical-align: top;\n",
       "    }\n",
       "\n",
       "    .dataframe thead th {\n",
       "        text-align: right;\n",
       "    }\n",
       "</style>\n",
       "<table border=\"1\" class=\"dataframe\">\n",
       "  <thead>\n",
       "    <tr style=\"text-align: right;\">\n",
       "      <th></th>\n",
       "      <th>Start Time</th>\n",
       "      <th>Duration</th>\n",
       "      <th>Title</th>\n",
       "    </tr>\n",
       "  </thead>\n",
       "  <tbody>\n",
       "    <tr>\n",
       "      <th>7718</th>\n",
       "      <td>2020-05-01 16:47:00-04:00</td>\n",
       "      <td>0 days 00:31:35</td>\n",
       "      <td>Terrace House: Boys &amp; Girls in the City: Part ...</td>\n",
       "    </tr>\n",
       "    <tr>\n",
       "      <th>7721</th>\n",
       "      <td>2020-05-01 16:16:04-04:00</td>\n",
       "      <td>0 days 00:30:31</td>\n",
       "      <td>Terrace House: Boys &amp; Girls in the City: Part ...</td>\n",
       "    </tr>\n",
       "    <tr>\n",
       "      <th>7722</th>\n",
       "      <td>2020-05-01 16:15:16-04:00</td>\n",
       "      <td>0 days 00:00:34</td>\n",
       "      <td>Terrace House: Boys &amp; Girls in the City: Part ...</td>\n",
       "    </tr>\n",
       "    <tr>\n",
       "      <th>7723</th>\n",
       "      <td>2020-05-01 16:12:55-04:00</td>\n",
       "      <td>0 days 00:00:10</td>\n",
       "      <td>Terrace House: Boys &amp; Girls in the City: Part ...</td>\n",
       "    </tr>\n",
       "    <tr>\n",
       "      <th>7724</th>\n",
       "      <td>2020-05-01 14:48:10-04:00</td>\n",
       "      <td>0 days 00:35:33</td>\n",
       "      <td>Terrace House: Boys &amp; Girls in the City: Part ...</td>\n",
       "    </tr>\n",
       "    <tr>\n",
       "      <th>...</th>\n",
       "      <td>...</td>\n",
       "      <td>...</td>\n",
       "      <td>...</td>\n",
       "    </tr>\n",
       "    <tr>\n",
       "      <th>20993</th>\n",
       "      <td>2017-07-30 15:17:03-04:00</td>\n",
       "      <td>0 days 00:30:42</td>\n",
       "      <td>Terrace House: Aloha State: Part 2: Black Tear...</td>\n",
       "    </tr>\n",
       "    <tr>\n",
       "      <th>20995</th>\n",
       "      <td>2017-07-30 04:33:14-04:00</td>\n",
       "      <td>0 days 00:00:01</td>\n",
       "      <td>Terrace House: Aloha State: Part 1: Taste of C...</td>\n",
       "    </tr>\n",
       "    <tr>\n",
       "      <th>20996</th>\n",
       "      <td>2017-07-30 04:02:34-04:00</td>\n",
       "      <td>0 days 00:29:56</td>\n",
       "      <td>Terrace House: Aloha State: Part 1: Taste of C...</td>\n",
       "    </tr>\n",
       "    <tr>\n",
       "      <th>21583</th>\n",
       "      <td>2017-05-06 23:55:26-04:00</td>\n",
       "      <td>0 days 00:35:38</td>\n",
       "      <td>Terrace House: Aloha State: Part 1: The 18-Yea...</td>\n",
       "    </tr>\n",
       "    <tr>\n",
       "      <th>21584</th>\n",
       "      <td>2017-05-06 23:18:34-04:00</td>\n",
       "      <td>0 days 00:35:57</td>\n",
       "      <td>Terrace House: Aloha State: Part 1: Terrace Ho...</td>\n",
       "    </tr>\n",
       "  </tbody>\n",
       "</table>\n",
       "<p>702 rows × 3 columns</p>\n",
       "</div>"
      ],
      "text/plain": [
       "                     Start Time        Duration  \\\n",
       "7718  2020-05-01 16:47:00-04:00 0 days 00:31:35   \n",
       "7721  2020-05-01 16:16:04-04:00 0 days 00:30:31   \n",
       "7722  2020-05-01 16:15:16-04:00 0 days 00:00:34   \n",
       "7723  2020-05-01 16:12:55-04:00 0 days 00:00:10   \n",
       "7724  2020-05-01 14:48:10-04:00 0 days 00:35:33   \n",
       "...                         ...             ...   \n",
       "20993 2017-07-30 15:17:03-04:00 0 days 00:30:42   \n",
       "20995 2017-07-30 04:33:14-04:00 0 days 00:00:01   \n",
       "20996 2017-07-30 04:02:34-04:00 0 days 00:29:56   \n",
       "21583 2017-05-06 23:55:26-04:00 0 days 00:35:38   \n",
       "21584 2017-05-06 23:18:34-04:00 0 days 00:35:57   \n",
       "\n",
       "                                                   Title  \n",
       "7718   Terrace House: Boys & Girls in the City: Part ...  \n",
       "7721   Terrace House: Boys & Girls in the City: Part ...  \n",
       "7722   Terrace House: Boys & Girls in the City: Part ...  \n",
       "7723   Terrace House: Boys & Girls in the City: Part ...  \n",
       "7724   Terrace House: Boys & Girls in the City: Part ...  \n",
       "...                                                  ...  \n",
       "20993  Terrace House: Aloha State: Part 2: Black Tear...  \n",
       "20995  Terrace House: Aloha State: Part 1: Taste of C...  \n",
       "20996  Terrace House: Aloha State: Part 1: Taste of C...  \n",
       "21583  Terrace House: Aloha State: Part 1: The 18-Yea...  \n",
       "21584  Terrace House: Aloha State: Part 1: Terrace Ho...  \n",
       "\n",
       "[702 rows x 3 columns]"
      ]
     },
     "execution_count": 21,
     "metadata": {},
     "output_type": "execute_result"
    }
   ],
   "source": [
    "th_df = df[df['Title'].str.contains('Terrace House')]\n",
    "th_df"
   ]
  },
  {
   "cell_type": "code",
   "execution_count": 22,
   "metadata": {},
   "outputs": [],
   "source": [
    "th_total_time = th_df['Duration'].sum()"
   ]
  },
  {
   "cell_type": "code",
   "execution_count": 23,
   "metadata": {},
   "outputs": [
    {
     "name": "stdout",
     "output_type": "stream",
     "text": [
      "<class 'pandas._libs.tslibs.timedeltas.Timedelta'>\n",
      "11 days 08:38:10\n"
     ]
    }
   ],
   "source": [
    "print(type(th_total_time))\n",
    "print(th_total_time)"
   ]
  },
  {
   "cell_type": "code",
   "execution_count": 24,
   "metadata": {},
   "outputs": [
    {
     "name": "stdout",
     "output_type": "stream",
     "text": [
      "272.6361111111111\n"
     ]
    }
   ],
   "source": [
    "th_hours = (th_total_time.days*24 + th_total_time.seconds/60/60)\n",
    "print(th_hours)"
   ]
  },
  {
   "cell_type": "code",
   "execution_count": 25,
   "metadata": {},
   "outputs": [
    {
     "name": "stdout",
     "output_type": "stream",
     "text": [
      "<class 'pandas.core.series.Series'>\n"
     ]
    }
   ],
   "source": [
    "df['Seconds'] = df['Duration'].dt.seconds\n",
    "print(type(df['Seconds']))\n",
    "df['Minutes'] = df['Seconds']/60"
   ]
  },
  {
   "cell_type": "code",
   "execution_count": 26,
   "metadata": {},
   "outputs": [
    {
     "data": {
      "text/html": [
       "<div>\n",
       "<style scoped>\n",
       "    .dataframe tbody tr th:only-of-type {\n",
       "        vertical-align: middle;\n",
       "    }\n",
       "\n",
       "    .dataframe tbody tr th {\n",
       "        vertical-align: top;\n",
       "    }\n",
       "\n",
       "    .dataframe thead th {\n",
       "        text-align: right;\n",
       "    }\n",
       "</style>\n",
       "<table border=\"1\" class=\"dataframe\">\n",
       "  <thead>\n",
       "    <tr style=\"text-align: right;\">\n",
       "      <th></th>\n",
       "      <th>Minutes</th>\n",
       "    </tr>\n",
       "    <tr>\n",
       "      <th>Title</th>\n",
       "      <th></th>\n",
       "    </tr>\n",
       "  </thead>\n",
       "  <tbody>\n",
       "    <tr>\n",
       "      <th>#Alive_hook_01_16x9</th>\n",
       "      <td>0.333333</td>\n",
       "    </tr>\n",
       "    <tr>\n",
       "      <th>#blackAF: Season 1: because of slavery (Episode 1)</th>\n",
       "      <td>16.925000</td>\n",
       "    </tr>\n",
       "    <tr>\n",
       "      <th>#blackAF: Season 1: because of slavery too (Episode 2)</th>\n",
       "      <td>33.000000</td>\n",
       "    </tr>\n",
       "    <tr>\n",
       "      <th>#blackAF: Season 1: still... because of slavery (Episode 3)</th>\n",
       "      <td>31.983333</td>\n",
       "    </tr>\n",
       "    <tr>\n",
       "      <th>#blackAF: Season 1: yup, you guessed it. again, this is because of slavery (Episode 4)</th>\n",
       "      <td>0.283333</td>\n",
       "    </tr>\n",
       "    <tr>\n",
       "      <th>...</th>\n",
       "      <td>...</td>\n",
       "    </tr>\n",
       "    <tr>\n",
       "      <th>the goop lab with Gwyneth Paltrow: Season 1: Cold Comfort (Episode 2)</th>\n",
       "      <td>0.250000</td>\n",
       "    </tr>\n",
       "    <tr>\n",
       "      <th>the goop lab with Gwyneth Paltrow: Season 1: The Energy Experience (Episode 5)</th>\n",
       "      <td>27.483333</td>\n",
       "    </tr>\n",
       "    <tr>\n",
       "      <th>the goop lab with Gwyneth Paltrow: Season 1: The Healing Trip (Episode 1)</th>\n",
       "      <td>34.916667</td>\n",
       "    </tr>\n",
       "    <tr>\n",
       "      <th>the goop lab with Gwyneth Paltrow: Season 1: The Health-Span Plan (Episode 4)</th>\n",
       "      <td>27.600000</td>\n",
       "    </tr>\n",
       "    <tr>\n",
       "      <th>the goop lab with Gwyneth Paltrow: Season 1: The Pleasure Is Ours (Episode 3)</th>\n",
       "      <td>35.700000</td>\n",
       "    </tr>\n",
       "  </tbody>\n",
       "</table>\n",
       "<p>10377 rows × 1 columns</p>\n",
       "</div>"
      ],
      "text/plain": [
       "                                                      Minutes\n",
       "Title                                                        \n",
       "#Alive_hook_01_16x9                                  0.333333\n",
       "#blackAF: Season 1: because of slavery (Episode 1)  16.925000\n",
       "#blackAF: Season 1: because of slavery too (Epi...  33.000000\n",
       "#blackAF: Season 1: still... because of slavery...  31.983333\n",
       "#blackAF: Season 1: yup, you guessed it. again,...   0.283333\n",
       "...                                                       ...\n",
       "the goop lab with Gwyneth Paltrow: Season 1: Co...   0.250000\n",
       "the goop lab with Gwyneth Paltrow: Season 1: Th...  27.483333\n",
       "the goop lab with Gwyneth Paltrow: Season 1: Th...  34.916667\n",
       "the goop lab with Gwyneth Paltrow: Season 1: Th...  27.600000\n",
       "the goop lab with Gwyneth Paltrow: Season 1: Th...  35.700000\n",
       "\n",
       "[10377 rows x 1 columns]"
      ]
     },
     "execution_count": 26,
     "metadata": {},
     "output_type": "execute_result"
    }
   ],
   "source": [
    "pivot = df.pivot_table(index='Title', values='Minutes')\n",
    "pivot"
   ]
  },
  {
   "cell_type": "markdown",
   "metadata": {},
   "source": [
    "How do we begin to clean our column names? We have shows Names combined with Episodes."
   ]
  },
  {
   "cell_type": "code",
   "execution_count": 27,
   "metadata": {},
   "outputs": [
    {
     "data": {
      "text/plain": [
       "0                      The Spy Next Door\n",
       "1    The Spy Next Door_hook_primary_16x9\n",
       "2                   The A List (Trailer)\n",
       "3       Season 1 Trailer 3: Raising Dion\n",
       "4             The Indian in the Cupboard\n",
       "Name: Title, dtype: object"
      ]
     },
     "execution_count": 27,
     "metadata": {},
     "output_type": "execute_result"
    }
   ],
   "source": [
    "df['Title'].head()"
   ]
  },
  {
   "cell_type": "code",
   "execution_count": 28,
   "metadata": {},
   "outputs": [
    {
     "data": {
      "text/plain": [
       "24799                           Katt Williams: Live\n",
       "24800                                       Traitor\n",
       "24801                               The Illusionist\n",
       "24802    Katt Williams: American Hustle (The Movie)\n",
       "24803                Walk Hard: The Dewey Cox Story\n",
       "Name: Title, dtype: object"
      ]
     },
     "execution_count": 28,
     "metadata": {},
     "output_type": "execute_result"
    }
   ],
   "source": [
    "df['Title'].tail()"
   ]
  },
  {
   "cell_type": "code",
   "execution_count": 29,
   "metadata": {},
   "outputs": [
    {
     "data": {
      "text/plain": [
       "array(['The Spy Next Door', 'The Spy Next Door_hook_primary_16x9',\n",
       "       'The A List (Trailer)', ..., 'The Illusionist',\n",
       "       'Katt Williams: American Hustle (The Movie)',\n",
       "       'Walk Hard: The Dewey Cox Story'], dtype=object)"
      ]
     },
     "execution_count": 29,
     "metadata": {},
     "output_type": "execute_result"
    }
   ],
   "source": [
    "df['Title'].unique()"
   ]
  },
  {
   "cell_type": "code",
   "execution_count": 30,
   "metadata": {},
   "outputs": [
    {
     "data": {
      "text/plain": [
       "(24804, 5)"
      ]
     },
     "execution_count": 30,
     "metadata": {},
     "output_type": "execute_result"
    }
   ],
   "source": [
    "df.shape"
   ]
  },
  {
   "cell_type": "markdown",
   "metadata": {},
   "source": [
    "OK so we've played around a lot let's actually do some cool manipulation to our dataset."
   ]
  },
  {
   "cell_type": "code",
   "execution_count": 31,
   "metadata": {},
   "outputs": [
    {
     "name": "stdout",
     "output_type": "stream",
     "text": [
      "Index(['Start Time', 'Duration', 'Title', 'Seconds', 'Minutes'], dtype='object')\n"
     ]
    }
   ],
   "source": [
    "print(df.columns)"
   ]
  },
  {
   "cell_type": "markdown",
   "metadata": {},
   "source": [
    "Let's take a look at the `Start Time` column."
   ]
  },
  {
   "cell_type": "code",
   "execution_count": 32,
   "metadata": {},
   "outputs": [
    {
     "name": "stdout",
     "output_type": "stream",
     "text": [
      "count                         24804\n",
      "unique                        24765\n",
      "top       2009-06-06 21:28:50-04:00\n",
      "freq                              2\n",
      "first     2009-05-02 22:44:05-04:00\n",
      "last      2020-11-14 19:32:55-05:00\n",
      "Name: Start Time, dtype: object\n"
     ]
    },
    {
     "name": "stderr",
     "output_type": "stream",
     "text": [
      "<ipython-input-32-1a9feae5cfa3>:1: FutureWarning: Treating datetime data as categorical rather than numeric in `.describe` is deprecated and will be removed in a future version of pandas. Specify `datetime_is_numeric=True` to silence this warning and adopt the future behavior now.\n",
      "  print(df['Start Time'].describe())\n"
     ]
    }
   ],
   "source": [
    "print(df['Start Time'].describe())"
   ]
  },
  {
   "cell_type": "markdown",
   "metadata": {},
   "source": [
    "Let's extract day of the week and add it to our dataframe object."
   ]
  },
  {
   "cell_type": "code",
   "execution_count": 33,
   "metadata": {},
   "outputs": [
    {
     "name": "stdout",
     "output_type": "stream",
     "text": [
      "<class 'pandas._libs.tslibs.timestamps.Timestamp'>\n"
     ]
    }
   ],
   "source": [
    "print(type(df['Start Time'][0]))"
   ]
  },
  {
   "cell_type": "code",
   "execution_count": 34,
   "metadata": {},
   "outputs": [],
   "source": [
    "df['day'] = df['Start Time'].dt.weekday\n",
    "df['hour'] = df['Start Time'].dt.hour"
   ]
  },
  {
   "cell_type": "code",
   "execution_count": 35,
   "metadata": {},
   "outputs": [
    {
     "data": {
      "text/plain": [
       "0    5\n",
       "1    5\n",
       "2    5\n",
       "3    5\n",
       "4    5\n",
       "Name: day, dtype: int64"
      ]
     },
     "execution_count": 35,
     "metadata": {},
     "output_type": "execute_result"
    }
   ],
   "source": [
    "df['day'].head()"
   ]
  },
  {
   "cell_type": "code",
   "execution_count": 36,
   "metadata": {},
   "outputs": [],
   "source": [
    "%matplotlib inline\n",
    "import matplotlib"
   ]
  },
  {
   "cell_type": "code",
   "execution_count": 37,
   "metadata": {},
   "outputs": [
    {
     "data": {
      "text/plain": [
       "0    5\n",
       "1    5\n",
       "2    5\n",
       "3    5\n",
       "4    5\n",
       "Name: day, dtype: category\n",
       "Categories (7, int64): [0 < 1 < 2 < 3 < 4 < 5 < 6]"
      ]
     },
     "execution_count": 37,
     "metadata": {},
     "output_type": "execute_result"
    }
   ],
   "source": [
    "df['day'] = pd.Categorical(df['day'], categories = [0,1,2,3,4,5,6], ordered=True)\n",
    "df['day'].head()"
   ]
  },
  {
   "cell_type": "code",
   "execution_count": 38,
   "metadata": {},
   "outputs": [
    {
     "data": {
      "text/plain": [
       "24799    5\n",
       "24800    5\n",
       "24801    1\n",
       "24802    0\n",
       "24803    5\n",
       "Name: day, dtype: category\n",
       "Categories (7, int64): [0 < 1 < 2 < 3 < 4 < 5 < 6]"
      ]
     },
     "execution_count": 38,
     "metadata": {},
     "output_type": "execute_result"
    }
   ],
   "source": [
    "df['day'].tail()"
   ]
  },
  {
   "cell_type": "code",
   "execution_count": 39,
   "metadata": {},
   "outputs": [
    {
     "data": {
      "text/plain": [
       "<AxesSubplot:title={'center':'Days of Watching Netflix'}>"
      ]
     },
     "execution_count": 39,
     "metadata": {},
     "output_type": "execute_result"
    },
    {
     "data": {
      "image/png": "[encoded data removed]",
      "text/plain": [
       "<Figure size 1440x720 with 1 Axes>"
      ]
     },
     "metadata": {
      "needs_background": "light"
     },
     "output_type": "display_data"
    }
   ],
   "source": [
    "df_by_day = df['day'].value_counts()\n",
    "df_by_day = df_by_day.sort_index()\n",
    "matplotlib.rcParams.update({'font.size': 22})\n",
    "df_by_day.plot(kind='bar', figsize=(20,10), title=\"Days of Watching Netflix\")"
   ]
  },
  {
   "cell_type": "markdown",
   "metadata": {},
   "source": [
    "Let's do the same thing with hours of the day."
   ]
  },
  {
   "cell_type": "code",
   "execution_count": 40,
   "metadata": {},
   "outputs": [
    {
     "name": "stdout",
     "output_type": "stream",
     "text": [
      "[0, 1, 2, 3, 4, 5, 6, 7, 8, 9, 10, 11, 12, 13, 14, 15, 16, 17, 18, 19, 20, 21, 22, 23]\n"
     ]
    }
   ],
   "source": [
    "hour_list = [n for n in range(24)]\n",
    "print(hour_list)\n",
    "df['hour'] = pd.Categorical(df['hour'], categories=hour_list, ordered=True)"
   ]
  },
  {
   "cell_type": "code",
   "execution_count": 41,
   "metadata": {},
   "outputs": [],
   "source": [
    "netflix_by_hour = df['hour'].value_counts()\n",
    "netflix_by_hour = netflix_by_hour.sort_index()\n",
    "matplotlib.rcParams.update({'font.size': 22})"
   ]
  },
  {
   "cell_type": "code",
   "execution_count": 42,
   "metadata": {},
   "outputs": [
    {
     "data": {
      "text/plain": [
       "<AxesSubplot:>"
      ]
     },
     "execution_count": 42,
     "metadata": {},
     "output_type": "execute_result"
    },
    {
     "data": {
      "image/png": "[encoded data removed]",
      "text/plain": [
       "<Figure size 1440x720 with 1 Axes>"
      ]
     },
     "metadata": {
      "needs_background": "light"
     },
     "output_type": "display_data"
    }
   ],
   "source": [
    "netflix_by_hour.plot(kind='bar', figsize=(20,10), title=\"\")"
   ]
  },
  {
   "cell_type": "code",
   "execution_count": null,
   "metadata": {},
   "outputs": [],
   "source": []
  }
 ],
 "metadata": {
  "kernelspec": {
   "display_name": "Python 3",
   "language": "python",
   "name": "python3"
  },
  "language_info": {
   "codemirror_mode": {
    "name": "ipython",
    "version": 3
   },
   "file_extension": ".py",
   "mimetype": "text/x-python",
   "name": "python",
   "nbconvert_exporter": "python",
   "pygments_lexer": "ipython3",
   "version": "3.8.5"
  }
 },
 "nbformat": 4,
 "nbformat_minor": 4
}
